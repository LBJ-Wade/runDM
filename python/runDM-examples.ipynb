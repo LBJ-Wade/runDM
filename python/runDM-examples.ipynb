{
 "cells": [
  {
   "cell_type": "markdown",
   "metadata": {},
   "source": [
    "**runDM**\n",
    "\n",
    "*With runDMC, it's Tricky. With runDM, it's not.*\n",
    "\n",
    "`runDM` is a tool for calculating the low energy couplings of Dark Matter (DM) to light quarks in Simplified Models with vector mediators. By specifying the mass of the mediator and the couplings of the mediator to SM fields at high energy, the code outputs the low energy couplings to up, down and strange quarks, taking into account the mixing of all dimension-6 operators."
   ]
  },
  {
   "cell_type": "code",
   "execution_count": 9,
   "metadata": {
    "collapsed": false,
    "scrolled": true
   },
   "outputs": [],
   "source": [
    "%matplotlib inline\n",
    "import numpy as np\n",
    "import matplotlib\n",
    "from matplotlib import pyplot as pl\n",
    "\n",
    "import runDM"
   ]
  },
  {
   "cell_type": "markdown",
   "metadata": {},
   "source": [
    "First, let's specify the couplings at high energy. This will be an 1-D array with 16 elements. `runDM` comes with a number of pre-defined benchmarks, which can be accessed using `setBenchmark`."
   ]
  },
  {
   "cell_type": "code",
   "execution_count": 2,
   "metadata": {
    "collapsed": false
   },
   "outputs": [
    {
     "name": "stdout",
     "output_type": "stream",
     "text": [
      "Vector coupling to all SM fermions: [ 1.  1.  1.  1.  1.  1.  1.  1.  1.  1.  1.  1.  1.  1.  1.  0.]\n",
      "Axial-vector coupling to all quarks: [-1.  1.  1.  0.  0. -1.  1.  1.  0.  0. -1.  1.  1.  0.  0.  0.]\n"
     ]
    }
   ],
   "source": [
    "c_high = runDM.setBenchmark(\"UniversalVector\")\n",
    "print \"Vector coupling to all SM fermions:\", c_high\n",
    "\n",
    "c_high = runDM.setBenchmark(\"QuarksAxial\")\n",
    "print \"Axial-vector coupling to all quarks:\", c_high"
   ]
  },
  {
   "cell_type": "markdown",
   "metadata": {},
   "source": [
    "Alternatively, you can specify each coupling individually. You can use InitCouplings() to generate an empty array of couplings and then go ahead."
   ]
  },
  {
   "cell_type": "code",
   "execution_count": 3,
   "metadata": {
    "collapsed": false
   },
   "outputs": [
    {
     "name": "stdout",
     "output_type": "stream",
     "text": [
      "User-defined couplings: [ 1. -1.  0.  0.  0.  0.  0.  0.  0.  0.  0.  0.  1.  0.  0.  0.]\n"
     ]
    }
   ],
   "source": [
    "c_high = runDM.initCouplings()\n",
    "c_high[0] = 1.0\n",
    "c_high[1] = -1.0\n",
    "c_high[12] = 1.0\n",
    "print \"User-defined couplings:\", c_high"
   ]
  },
  {
   "cell_type": "markdown",
   "metadata": {},
   "source": [
    "From these high energy couplings (defined at energy $E_1$), you can obtain the couplings to light quarks at energy $E_2$ by using `lightqCouplings(c, E1, E2)`:"
   ]
  },
  {
   "cell_type": "code",
   "execution_count": 4,
   "metadata": {
    "collapsed": false
   },
   "outputs": [],
   "source": [
    "E1 = 1000\n",
    "E2 = 1\n",
    "c_q = runDM.lightqCouplings(c_high, E1, E2)"
   ]
  },
  {
   "cell_type": "markdown",
   "metadata": {},
   "source": [
    "The output is an array with 6 elements, the vector and axial-vector couplings to the light quarks: $c_q = \\left(c_V^{(u)}, c_V^{(d)},c_V^{(s)}, c_A^{(u)}, c_A^{(d)},c_A^{(s)}\\right)$. Let's print them out:"
   ]
  },
  {
   "cell_type": "code",
   "execution_count": 5,
   "metadata": {
    "collapsed": false
   },
   "outputs": [
    {
     "name": "stdout",
     "output_type": "stream",
     "text": [
      "c_V^u = 0.00733798843599\n",
      "c_V^d = 0.496349047822\n",
      "c_V^s = -0.00365095217817\n",
      "c_A^u = -0.99996391592\n",
      "c_A^d = -0.50003608408\n",
      "c_A^s = -3.60840796558e-05\n"
     ]
    }
   ],
   "source": [
    "couplings_str = ['c_V^u','c_V^d','c_V^s','c_A^u','c_A^d','c_A^s']\n",
    "\n",
    "for k in range(6):\n",
    "    print couplings_str[k], \"=\", c_q[k]"
   ]
  },
  {
   "cell_type": "markdown",
   "metadata": {},
   "source": [
    "Now, let's take a look at the value of the low energy couplings (evaluated at $\\mu_N \\sim 1 \\, \\mathrm{GeV}$) as a function of the mediator mass $m_V$. "
   ]
  },
  {
   "cell_type": "code",
   "execution_count": 13,
   "metadata": {
    "collapsed": false
   },
   "outputs": [
    {
     "name": "stdout",
     "output_type": "stream",
     "text": [
      "Fix problem with matching and with axis ranges!\n"
     ]
    },
    {
     "data": {
      "image/png": "[encoded data removed]",
      "text/plain": [
       "<matplotlib.figure.Figure at 0x10f28c4d0>"
      ]
     },
     "metadata": {},
     "output_type": "display_data"
    }
   ],
   "source": [
    "print \"Fix problem with matching and with axis ranges!\"\n",
    "\n",
    "mV = np.logspace(0, 5, 1000)\n",
    "c_q = np.zeros([1000,6])\n",
    "\n",
    "c_high = runDM.setBenchmark(\"QuarksAxial\")\n",
    "for i in range(1000):\n",
    "    c_q[i,:] = runDM.lightqCouplings(c_high, mV[i], 1.0)\n",
    "\n",
    "#Now let's do some plotting\n",
    "f, ax = pl.subplots(6, sharex=True, figsize=(10,8))\n",
    "\n",
    "for k in range(6):\n",
    "    ax[k].semilogx(c_q[:,k])\n",
    "    ax[k].set_xlabel(r'$m_V$ [GeV]', fontsize=20.0)\n",
    "    ax[k].set_ylabel(r'$'+couplings_str[k]+'$', fontsize=20.0)\n",
    "    ax[k].yaxis.set_major_locator( matplotlib.ticker.MaxNLocator(nbins=4) )\n",
    "    ax[k].axvline(91.1875, color='k', linestyle='--')\n",
    "f.subplots_adjust(bottom=0.15, top=0.9,hspace=0)\n"
   ]
  },
  {
   "cell_type": "code",
   "execution_count": null,
   "metadata": {
    "collapsed": true
   },
   "outputs": [],
   "source": []
  }
 ],
 "metadata": {
  "kernelspec": {
   "display_name": "Python 2",
   "language": "python",
   "name": "python2"
  },
  "language_info": {
   "codemirror_mode": {
    "name": "ipython",
    "version": 2
   },
   "file_extension": ".py",
   "mimetype": "text/x-python",
   "name": "python",
   "nbconvert_exporter": "python",
   "pygments_lexer": "ipython2",
   "version": "2.7.11"
  }
 },
 "nbformat": 4,
 "nbformat_minor": 0
}
