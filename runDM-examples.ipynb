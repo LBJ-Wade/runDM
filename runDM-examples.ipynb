{
 "cells": [
  {
   "cell_type": "markdown",
   "metadata": {},
   "source": [
    "**runDM**\n",
    "\n",
    "*With runDMC, it's Tricky. With runDM, it's not.*\n",
    "\n",
    "runDM is a tool for calculating the low energy couplings of Dark Matter (DM) to light quarks in Simplified Models with vector mediators. By specifying the mass of the mediator and the couplings of the mediator to SM fields at high energy, the code outputs the low energy couplings to up, down and strange quarks, taking into account the mixing of all dimension-6 operators.\n",
    "\n",
    "First, let's specify the couplings at high energy. This will be an 1-D array with 16 elements. Use InitCouplings() to generate an empty array of couplings. You can then specify each coupling individually."
   ]
  },
  {
   "cell_type": "code",
   "execution_count": 2,
   "metadata": {
    "collapsed": false
   },
   "outputs": [
    {
     "name": "stdout",
     "output_type": "stream",
     "text": [
      "[ 1. -1.  0.  0.  0.  0.  0.  0.  0.  0.  0.  0.  0.  0.  0.  0.]\n"
     ]
    }
   ],
   "source": [
    "import runDM\n",
    "\n",
    "\n",
    "c_high = runDM.InitCouplings()\n",
    "c_high[0] = 1.0\n",
    "c_high[1] = -1.0\n",
    "\n",
    "print c_high"
   ]
  },
  {
   "cell_type": "markdown",
   "metadata": {},
   "source": [
    "Alternatively, you can choose from a set of predefined benchmarks:"
   ]
  },
  {
   "cell_type": "code",
   "execution_count": null,
   "metadata": {
    "collapsed": true
   },
   "outputs": [],
   "source": []
  }
 ],
 "metadata": {
  "kernelspec": {
   "display_name": "Python 2",
   "language": "python",
   "name": "python2"
  },
  "language_info": {
   "codemirror_mode": {
    "name": "ipython",
    "version": 2
   },
   "file_extension": ".py",
   "mimetype": "text/x-python",
   "name": "python",
   "nbconvert_exporter": "python",
   "pygments_lexer": "ipython2",
   "version": "2.7.11"
  }
 },
 "nbformat": 4,
 "nbformat_minor": 0
}
